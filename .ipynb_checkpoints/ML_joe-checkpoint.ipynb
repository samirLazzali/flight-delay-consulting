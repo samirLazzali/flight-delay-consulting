{
 "cells": [
  {
   "cell_type": "markdown",
   "metadata": {},
   "source": [
    "# Regression logisitic"
   ]
  },
  {
   "cell_type": "code",
   "execution_count": 3,
   "metadata": {},
   "outputs": [],
   "source": [
    "%matplotlib inline\n",
    "import os\n",
    "import importlib\n",
    "import numpy as np\n",
    "import pandas as pd\n",
    "import matplotlib.pyplot as plt\n",
    "from sklearn.preprocessing import FunctionTransformer\n",
    "from sklearn.compose import make_column_transformer\n",
    "from sklearn.preprocessing import OrdinalEncoder\n",
    "from sklearn.pipeline import make_pipeline\n",
    "from sklearn.ensemble import RandomForestRegressor\n",
    "from sklearn.linear_model import LinearRegression\n",
    "from sklearn.ensemble import GradientBoostingRegressor\n",
    "from sklearn.ensemble import RandomForestClassifier\n",
    "from sklearn.preprocessing import OneHotEncoder\n",
    "\n",
    "from sklearn.preprocessing import OneHotEncoder\n",
    "from sklearn.preprocessing import StandardScaler\n",
    "from sklearn.svm import LinearSVC\n",
    "pd.set_option('display.max_columns', None)\n",
    "\n",
    "from sklearn.model_selection import train_test_split\n",
    "from sklearn.inspection import permutation_importance\n",
    "from sklearn.model_selection import cross_val_score"
   ]
  },
  {
   "cell_type": "code",
   "execution_count": 74,
   "metadata": {},
   "outputs": [],
   "source": [
    "data = pd.read_csv('full_join.csv')"
   ]
  },
  {
   "cell_type": "code",
   "execution_count": 5,
   "metadata": {},
   "outputs": [
    {
     "data": {
      "text/html": [
       "<div>\n",
       "<style scoped>\n",
       "    .dataframe tbody tr th:only-of-type {\n",
       "        vertical-align: middle;\n",
       "    }\n",
       "\n",
       "    .dataframe tbody tr th {\n",
       "        vertical-align: top;\n",
       "    }\n",
       "\n",
       "    .dataframe thead th {\n",
       "        text-align: right;\n",
       "    }\n",
       "</style>\n",
       "<table border=\"1\" class=\"dataframe\">\n",
       "  <thead>\n",
       "    <tr style=\"text-align: right;\">\n",
       "      <th></th>\n",
       "      <th>IDENTIFIANT</th>\n",
       "      <th>VOL</th>\n",
       "      <th>CODE_AVION</th>\n",
       "      <th>AEROPORT_DEPART</th>\n",
       "      <th>AEROPORT_ARRIVEE</th>\n",
       "      <th>HEURE_DEPART_PROGRAMME</th>\n",
       "      <th>HEURE_DEPART</th>\n",
       "      <th>TEMPS_RETARD_DEPART</th>\n",
       "      <th>TEMPS_DEPLACEMENT_DECOLLAGE</th>\n",
       "      <th>HEURE_DECOLLAGE</th>\n",
       "      <th>TEMPS_PROGRAMME</th>\n",
       "      <th>TEMPS_PASSE</th>\n",
       "      <th>TEMPS_VOL</th>\n",
       "      <th>DISTANCE</th>\n",
       "      <th>HEURE_ATTERRISSAGE</th>\n",
       "      <th>TEMPS_DEPLACEMENT_ATTERRISSAGE</th>\n",
       "      <th>HEURE_ARRIVEE_PROGRAMMEE</th>\n",
       "      <th>HEURE_ARRIVEE</th>\n",
       "      <th>TEMPS_RETARD_ARRIVEE</th>\n",
       "      <th>DETOURNEMENT</th>\n",
       "      <th>ANNULATION</th>\n",
       "      <th>RAISON_ANNULATION</th>\n",
       "      <th>RETARD_SYSTEM</th>\n",
       "      <th>RETARD_SECURITE</th>\n",
       "      <th>RETARD_COMPAGNIE</th>\n",
       "      <th>RETARD_AVION</th>\n",
       "      <th>RETARD_METEO</th>\n",
       "      <th>DATE</th>\n",
       "      <th>NIVEAU_SECURITE</th>\n",
       "      <th>COMPAGNIE AERIENNE</th>\n",
       "      <th>COMPAGNIE</th>\n",
       "      <th>DEPART_NOM</th>\n",
       "      <th>DEPART_LIEU</th>\n",
       "      <th>DEPART_PAYS</th>\n",
       "      <th>DEPART_LONGITUDE</th>\n",
       "      <th>DEPART_LATITUDE</th>\n",
       "      <th>DEPART_HAUTEUR</th>\n",
       "      <th>DEPART_PRIX_RETARD_10</th>\n",
       "      <th>DEPART_PRIX_RETARD_APRES</th>\n",
       "      <th>ARRIVEE_NOM</th>\n",
       "      <th>ARRIVEE_LIEU</th>\n",
       "      <th>ARRIVEE_PAYS</th>\n",
       "      <th>ARRIVEE_LONGITUDE</th>\n",
       "      <th>ARRIVEE_LATITUDE</th>\n",
       "      <th>ARRIVEE_HAUTEUR</th>\n",
       "      <th>ARRIVEE_PRIX_RETARD_10</th>\n",
       "      <th>ARRIVEE_PRIX_RETARD_APRES</th>\n",
       "    </tr>\n",
       "  </thead>\n",
       "  <tbody>\n",
       "    <tr>\n",
       "      <th>0</th>\n",
       "      <td>651373</td>\n",
       "      <td>2317</td>\n",
       "      <td>28fa5df4d7</td>\n",
       "      <td>TIA</td>\n",
       "      <td>DSS</td>\n",
       "      <td>1410</td>\n",
       "      <td>1411.0</td>\n",
       "      <td>1.0</td>\n",
       "      <td>20.0</td>\n",
       "      <td>1431.0</td>\n",
       "      <td>229.0</td>\n",
       "      <td>227.0</td>\n",
       "      <td>197.0</td>\n",
       "      <td>1749</td>\n",
       "      <td>2048.0</td>\n",
       "      <td>10.0</td>\n",
       "      <td>2059</td>\n",
       "      <td>2058.0</td>\n",
       "      <td>-1.0</td>\n",
       "      <td>0</td>\n",
       "      <td>0</td>\n",
       "      <td>NaN</td>\n",
       "      <td>NaN</td>\n",
       "      <td>NaN</td>\n",
       "      <td>NaN</td>\n",
       "      <td>NaN</td>\n",
       "      <td>NaN</td>\n",
       "      <td>10/4/2016</td>\n",
       "      <td>10</td>\n",
       "      <td>NVPPA</td>\n",
       "      <td>Ne Va Pas Partout Airlines</td>\n",
       "      <td>Tirana International Airport Mother Teresa</td>\n",
       "      <td>Tirana</td>\n",
       "      <td>AL</td>\n",
       "      <td>19.7206</td>\n",
       "      <td>41.4147</td>\n",
       "      <td>126.0</td>\n",
       "      <td>4582</td>\n",
       "      <td>586</td>\n",
       "      <td>Tirana International Airport Mother Teresa</td>\n",
       "      <td>Tirana</td>\n",
       "      <td>AL</td>\n",
       "      <td>19.7206</td>\n",
       "      <td>41.4147</td>\n",
       "      <td>126.0</td>\n",
       "      <td>4582</td>\n",
       "      <td>586</td>\n",
       "    </tr>\n",
       "  </tbody>\n",
       "</table>\n",
       "</div>"
      ],
      "text/plain": [
       "   IDENTIFIANT   VOL  CODE_AVION AEROPORT_DEPART AEROPORT_ARRIVEE  \\\n",
       "0       651373  2317  28fa5df4d7             TIA              DSS   \n",
       "\n",
       "   HEURE_DEPART_PROGRAMME  HEURE_DEPART  TEMPS_RETARD_DEPART  \\\n",
       "0                    1410        1411.0                  1.0   \n",
       "\n",
       "   TEMPS_DEPLACEMENT_DECOLLAGE  HEURE_DECOLLAGE  TEMPS_PROGRAMME  TEMPS_PASSE  \\\n",
       "0                         20.0           1431.0            229.0        227.0   \n",
       "\n",
       "   TEMPS_VOL  DISTANCE  HEURE_ATTERRISSAGE  TEMPS_DEPLACEMENT_ATTERRISSAGE  \\\n",
       "0      197.0      1749              2048.0                            10.0   \n",
       "\n",
       "   HEURE_ARRIVEE_PROGRAMMEE  HEURE_ARRIVEE  TEMPS_RETARD_ARRIVEE  \\\n",
       "0                      2059         2058.0                  -1.0   \n",
       "\n",
       "   DETOURNEMENT  ANNULATION RAISON_ANNULATION  RETARD_SYSTEM  RETARD_SECURITE  \\\n",
       "0             0           0               NaN            NaN              NaN   \n",
       "\n",
       "   RETARD_COMPAGNIE  RETARD_AVION  RETARD_METEO       DATE  NIVEAU_SECURITE  \\\n",
       "0               NaN           NaN           NaN  10/4/2016               10   \n",
       "\n",
       "  COMPAGNIE AERIENNE                   COMPAGNIE  \\\n",
       "0              NVPPA  Ne Va Pas Partout Airlines   \n",
       "\n",
       "                                   DEPART_NOM DEPART_LIEU DEPART_PAYS  \\\n",
       "0  Tirana International Airport Mother Teresa      Tirana          AL   \n",
       "\n",
       "   DEPART_LONGITUDE  DEPART_LATITUDE  DEPART_HAUTEUR  DEPART_PRIX_RETARD_10  \\\n",
       "0           19.7206          41.4147           126.0                   4582   \n",
       "\n",
       "   DEPART_PRIX_RETARD_APRES                                 ARRIVEE_NOM  \\\n",
       "0                       586  Tirana International Airport Mother Teresa   \n",
       "\n",
       "  ARRIVEE_LIEU ARRIVEE_PAYS  ARRIVEE_LONGITUDE  ARRIVEE_LATITUDE  \\\n",
       "0       Tirana           AL            19.7206           41.4147   \n",
       "\n",
       "   ARRIVEE_HAUTEUR  ARRIVEE_PRIX_RETARD_10  ARRIVEE_PRIX_RETARD_APRES  \n",
       "0            126.0                    4582                        586  "
      ]
     },
     "execution_count": 5,
     "metadata": {},
     "output_type": "execute_result"
    }
   ],
   "source": [
    "data.head(1)"
   ]
  },
  {
   "cell_type": "code",
   "execution_count": 6,
   "metadata": {},
   "outputs": [
    {
     "data": {
      "text/plain": [
       "Index(['IDENTIFIANT', 'VOL', 'CODE_AVION', 'AEROPORT_DEPART',\n",
       "       'AEROPORT_ARRIVEE', 'HEURE_DEPART_PROGRAMME', 'HEURE_DEPART',\n",
       "       'TEMPS_RETARD_DEPART', 'TEMPS_DEPLACEMENT_DECOLLAGE', 'HEURE_DECOLLAGE',\n",
       "       'TEMPS_PROGRAMME', 'TEMPS_PASSE', 'TEMPS_VOL', 'DISTANCE',\n",
       "       'HEURE_ATTERRISSAGE', 'TEMPS_DEPLACEMENT_ATTERRISSAGE',\n",
       "       'HEURE_ARRIVEE_PROGRAMMEE', 'HEURE_ARRIVEE', 'TEMPS_RETARD_ARRIVEE',\n",
       "       'DETOURNEMENT', 'ANNULATION', 'RAISON_ANNULATION', 'RETARD_SYSTEM',\n",
       "       'RETARD_SECURITE', 'RETARD_COMPAGNIE', 'RETARD_AVION', 'RETARD_METEO',\n",
       "       'DATE', 'NIVEAU_SECURITE', 'COMPAGNIE AERIENNE', 'COMPAGNIE',\n",
       "       'DEPART_NOM', 'DEPART_LIEU', 'DEPART_PAYS', 'DEPART_LONGITUDE',\n",
       "       'DEPART_LATITUDE', 'DEPART_HAUTEUR', 'DEPART_PRIX_RETARD_10',\n",
       "       'DEPART_PRIX_RETARD_APRES', 'ARRIVEE_NOM', 'ARRIVEE_LIEU',\n",
       "       'ARRIVEE_PAYS', 'ARRIVEE_LONGITUDE', 'ARRIVEE_LATITUDE',\n",
       "       'ARRIVEE_HAUTEUR', 'ARRIVEE_PRIX_RETARD_10',\n",
       "       'ARRIVEE_PRIX_RETARD_APRES'],\n",
       "      dtype='object')"
      ]
     },
     "execution_count": 6,
     "metadata": {},
     "output_type": "execute_result"
    }
   ],
   "source": [
    "data.columns"
   ]
  },
  {
   "cell_type": "code",
   "execution_count": 5,
   "metadata": {},
   "outputs": [
    {
     "data": {
      "text/plain": [
       "IDENTIFIANT                       3000000\n",
       "VOL                               3000000\n",
       "CODE_AVION                        3000000\n",
       "AEROPORT_DEPART                   3000000\n",
       "AEROPORT_ARRIVEE                  3000000\n",
       "HEURE_DEPART_PROGRAMME            3000000\n",
       "HEURE_DEPART                      2950774\n",
       "TEMPS_RETARD_DEPART               2950774\n",
       "TEMPS_DEPLACEMENT_DECOLLAGE       2948930\n",
       "HEURE_DECOLLAGE                   2948930\n",
       "TEMPS_PROGRAMME                   2999994\n",
       "TEMPS_PASSE                       2940415\n",
       "TEMPS_VOL                         2940415\n",
       "DISTANCE                          3000000\n",
       "HEURE_ATTERRISSAGE                2947124\n",
       "TEMPS_DEPLACEMENT_ATTERRISSAGE    2947124\n",
       "HEURE_ARRIVEE_PROGRAMMEE          3000000\n",
       "HEURE_ARRIVEE                     2947124\n",
       "TEMPS_RETARD_ARRIVEE              2940415\n",
       "DETOURNEMENT                      3000000\n",
       "ANNULATION                        3000000\n",
       "RAISON_ANNULATION                   51586\n",
       "RETARD_SYSTEM                      560231\n",
       "RETARD_SECURITE                    560231\n",
       "RETARD_COMPAGNIE                   560231\n",
       "RETARD_AVION                       560231\n",
       "RETARD_METEO                       560231\n",
       "DATE                              3000000\n",
       "NIVEAU_SECURITE                   3000000\n",
       "COMPAGNIE AERIENNE                2856955\n",
       "COMPAGNIE                         3000000\n",
       "DEPART_NOM                        3000000\n",
       "DEPART_LIEU                       3000000\n",
       "DEPART_PAYS                       3000000\n",
       "DEPART_LONGITUDE                  3000000\n",
       "DEPART_LATITUDE                   3000000\n",
       "DEPART_HAUTEUR                    3000000\n",
       "DEPART_PRIX_RETARD_10             3000000\n",
       "DEPART_PRIX_RETARD_APRES          3000000\n",
       "ARRIVEE_NOM                       3000000\n",
       "ARRIVEE_LIEU                      3000000\n",
       "ARRIVEE_PAYS                      3000000\n",
       "ARRIVEE_LONGITUDE                 3000000\n",
       "ARRIVEE_LATITUDE                  3000000\n",
       "ARRIVEE_HAUTEUR                   3000000\n",
       "ARRIVEE_PRIX_RETARD_10            3000000\n",
       "ARRIVEE_PRIX_RETARD_APRES         3000000\n",
       "dtype: int64"
      ]
     },
     "execution_count": 5,
     "metadata": {},
     "output_type": "execute_result"
    }
   ],
   "source": [
    "data.count()"
   ]
  },
  {
   "cell_type": "code",
   "execution_count": 6,
   "metadata": {
    "scrolled": true
   },
   "outputs": [
    {
     "data": {
      "text/plain": [
       "IDENTIFIANT                       3000000\n",
       "VOL                                  6380\n",
       "CODE_AVION                           4185\n",
       "AEROPORT_DEPART                       318\n",
       "AEROPORT_ARRIVEE                      318\n",
       "HEURE_DEPART_PROGRAMME               1312\n",
       "HEURE_DEPART                         1440\n",
       "TEMPS_RETARD_DEPART                  1110\n",
       "TEMPS_DEPLACEMENT_DECOLLAGE           181\n",
       "HEURE_DECOLLAGE                      1440\n",
       "TEMPS_PROGRAMME                       543\n",
       "TEMPS_PASSE                           707\n",
       "TEMPS_VOL                             673\n",
       "DISTANCE                             1235\n",
       "HEURE_ATTERRISSAGE                   1440\n",
       "TEMPS_DEPLACEMENT_ATTERRISSAGE        178\n",
       "HEURE_ARRIVEE_PROGRAMMEE             1427\n",
       "HEURE_ARRIVEE                        1440\n",
       "TEMPS_RETARD_ARRIVEE                 1134\n",
       "DETOURNEMENT                            2\n",
       "ANNULATION                              2\n",
       "RAISON_ANNULATION                       4\n",
       "RETARD_SYSTEM                         534\n",
       "RETARD_SECURITE                       141\n",
       "RETARD_COMPAGNIE                      953\n",
       "RETARD_AVION                          645\n",
       "RETARD_METEO                          562\n",
       "DATE                                 1002\n",
       "NIVEAU_SECURITE                         1\n",
       "COMPAGNIE AERIENNE                     12\n",
       "COMPAGNIE                              13\n",
       "DEPART_NOM                            318\n",
       "DEPART_LIEU                           301\n",
       "DEPART_PAYS                           111\n",
       "DEPART_LONGITUDE                      318\n",
       "DEPART_LATITUDE                       318\n",
       "DEPART_HAUTEUR                        255\n",
       "DEPART_PRIX_RETARD_10                 313\n",
       "DEPART_PRIX_RETARD_APRES              275\n",
       "ARRIVEE_NOM                           318\n",
       "ARRIVEE_LIEU                          301\n",
       "ARRIVEE_PAYS                          111\n",
       "ARRIVEE_LONGITUDE                     318\n",
       "ARRIVEE_LATITUDE                      318\n",
       "ARRIVEE_HAUTEUR                       255\n",
       "ARRIVEE_PRIX_RETARD_10                313\n",
       "ARRIVEE_PRIX_RETARD_APRES             275\n",
       "dtype: int64"
      ]
     },
     "execution_count": 6,
     "metadata": {},
     "output_type": "execute_result"
    }
   ],
   "source": [
    "data.nunique()"
   ]
  },
  {
   "cell_type": "code",
   "execution_count": 7,
   "metadata": {},
   "outputs": [
    {
     "name": "stdout",
     "output_type": "stream",
     "text": [
      "[ 651373 3901402 3622626 ... 1043075 1043065 1043046]\n",
      "3000000\n"
     ]
    }
   ],
   "source": [
    "print(data['IDENTIFIANT'].unique())\n",
    "print(len(data['IDENTIFIANT'].unique()))"
   ]
  },
  {
   "cell_type": "code",
   "execution_count": 8,
   "metadata": {},
   "outputs": [
    {
     "name": "stdout",
     "output_type": "stream",
     "text": [
      "[2317 2514  607 ... 7404 7423 7396]\n",
      "6380\n"
     ]
    }
   ],
   "source": [
    "print(data['VOL'].unique())\n",
    "print(len(data['VOL'].unique()))"
   ]
  },
  {
   "cell_type": "code",
   "execution_count": 9,
   "metadata": {},
   "outputs": [
    {
     "name": "stdout",
     "output_type": "stream",
     "text": [
      "['28fa5df4d7' '068d0a9b31' '433ee3f85e' ... 'e541b47152' '2231fa45af'\n",
      " '32a93aeac3']\n",
      "4185\n"
     ]
    }
   ],
   "source": [
    "print(data['CODE_AVION'].unique())\n",
    "print(len(data['CODE_AVION'].unique()))"
   ]
  },
  {
   "cell_type": "code",
   "execution_count": 10,
   "metadata": {},
   "outputs": [
    {
     "name": "stdout",
     "output_type": "stream",
     "text": [
      "['Tirana' 'Maputo' 'Torino' 'Brussels' 'Venice' 'Durban' 'Vasco da Gama'\n",
      " 'Dubai' 'MÃ¡laga' 'Moscow' 'Osaka' 'Glasgow' 'Latakia' 'Berlin' 'Jinan'\n",
      " 'Frankfurt am Main' 'WrocÅ\\x82aw' 'Dakar' 'Kagoshima' 'Hanoi' 'Uyo'\n",
      " 'Hannover' 'Ljubljana' 'Tokoname' 'Shanghai' 'BÃ¢le/Mulhouse' 'Warsaw'\n",
      " 'Bari' 'Chiang Mai' 'Chengdu' 'Shiraz' 'Southampton' 'Hong Kong'\n",
      " 'Algiers' 'Tenerife Island' 'Shenzhen' 'Taipei' 'Sharjah' 'Dalaman'\n",
      " 'Gran Canaria Island' 'TromsÃ¸' 'Tianjin' 'Cagayan de Oro City' 'Cairo'\n",
      " 'Jayapura-Papua Island' 'Islamabad' 'Johannesburg' 'Vienna' 'Bratislava'\n",
      " 'Macau' 'Siem Reap' 'Copenhagen' 'Stavanger' 'Cologne' 'Luxor'\n",
      " 'Bordeaux/MÃ©rignac' 'Guilin City' 'Phnom Penh' 'Manchester' 'Leeds'\n",
      " 'Birmingham' 'Amman' 'Bournemouth' 'Cork' 'GdaÅ\\x84sk'\n",
      " 'Palma De Mallorca' 'Karaganda' 'KrakÃ³w' 'Nottingham' 'Hohhot' 'Erzurum'\n",
      " 'Tbilisi' 'Kampala' 'Medina' 'Duqm' 'Ujung Pandang-Celebes Island'\n",
      " 'Lapu-Lapu City' 'Podgorica' 'Kochi' 'Nice' 'Aalborg' 'LiÃ¨ge'\n",
      " 'Yekaterinburg' 'Kano' 'Bandar Seri Begawan' 'Gothenburg' 'Baghdad'\n",
      " 'Damascus' 'Ad Dammam' 'Milan' 'Sanya' 'Eindhoven' 'Praia da VitÃ³ria'\n",
      " 'Catania' 'Ufa' 'Istanbul' 'Faro' 'Mombasa' 'Bangalore' 'Chennai' 'Doha'\n",
      " 'Taiyuan' 'Sochi' 'Harare' 'Billund' 'Juba' 'Lusaka' 'Fussa' 'Barcelona'\n",
      " 'NÃ¡poli' 'Enfidha' 'Lisbon' 'Vilnius' 'Odessa' 'Tripoli' 'Beijing'\n",
      " 'Belgrade' 'Astana' 'Fuzhou' 'Newcastle' 'Piseo-ri (Muan)' 'Baku'\n",
      " 'Almaty' 'Port Louis' 'Ponta Delgada' 'Samara' 'Sorong-Papua Island'\n",
      " 'Riyadh' 'MalmÃ¶' 'Belfast' 'Niamey' 'Singapore' 'Amritsar' 'Oslo' 'Pisa'\n",
      " 'Addis Ababa' 'Dalian' 'Nanjing' 'Muscat' 'Xiamen' 'London' 'Marseille'\n",
      " 'Makinohara / Shimada' 'Hangzhou' 'Mahe Island' 'Helsinki' 'Sarajevo'\n",
      " 'Abu Dhabi' 'Genova' 'Khartoum' 'Bishkek' 'Palermo' 'Bodrum'\n",
      " 'Denpasar-Bali Island' 'Skopje' 'Katowice' 'Dortmund' 'New Delhi'\n",
      " 'Tabriz' 'Ã\\x9crÃ¼mqi' 'Cagliari' 'Lagos' 'Larnarca' 'Hamburg' 'Changsha'\n",
      " 'Kazan' 'Tehran' 'Chongqing' 'Treviso' 'Bremen' 'Busan' 'Abuja'\n",
      " 'Hyderabad' 'Alicante' 'Valletta' 'Sofia' 'Ä°zmir' 'Jebel Ali' 'Tashkent'\n",
      " 'Cheongju' 'Kuala Lumpur' 'Nuremberg' 'Ramstein' 'Bangkok' 'Colombo'\n",
      " 'Dresden' 'Prague' 'Samarinda' 'PoznaÅ\\x84' 'Zagreb' 'Kaohsiung City'\n",
      " 'Tokyo' 'Dhaka' 'Manama' 'Riga' \"Xi'an\" 'Jeddah' 'Aleppo' 'Manila'\n",
      " 'Luanda' 'Gaborone' 'Isparta' 'Yerevan' 'Dublin' 'Freetown' 'Nanning'\n",
      " 'Bergen' 'Kunming' 'Geneva' 'Jeju City' 'Shang-I' 'Toulouse/Blagnac'\n",
      " 'Porto' 'Ningbo' 'Angeles/Mabalacat' 'Novosibirsk' 'Kiev' 'Tallinn'\n",
      " 'Bologna' 'Cardiff' 'Stuttgart' 'Ulan Bator' 'Davao City' 'LuleÃ¥'\n",
      " 'Bristol' 'Bucharest' 'Varna' 'Mildenhall' 'Casablanca' 'Jakarta' 'Wuhan'\n",
      " 'Nairobi' 'Seoul' 'Verona' \"Al Masna'ah\" 'Brize Norton' 'Da Nang'\n",
      " 'Phuket' 'Exeter' 'Luxembourg' 'Nouakchott' 'Fairford' 'Mumbai' 'Rome'\n",
      " 'Sialkot' 'Shannon' 'Fukuoka' 'Calicut' 'Gaziantep' 'Budapest'\n",
      " 'Stockholm' 'Antananarivo' 'Beirut' 'Basrah' 'Santiago de Compostela'\n",
      " 'Espargos' 'ReykjavÃ\\xadk' 'Tunis' 'MÃ¼nster' 'BodÃ¸' 'Kinshasa'\n",
      " 'Baden-Baden' 'Akrotiri' 'Prishtina' 'Ashgabat' 'St. Petersburg'\n",
      " 'Guiyang' 'Thessaloniki' 'Madrid' 'Heraklion' 'Surabaya' 'Lyon' 'MalÃ©'\n",
      " 'Liverpool' 'Ouagadougou' 'Haikou' 'Mandalay' 'Zurich' 'Eilat' 'Norwich'\n",
      " 'Monrovia' 'Doncaster' 'Trabzon' 'Accra' 'Dar es Salaam' 'Zhengzhou'\n",
      " 'Sta Cruz de la Palma, La Palma Island' 'Hurghada' 'Kunsan' 'Paphos'\n",
      " 'George' 'Minsk' 'Leipzig' 'Krasnoyarsk' 'Mashhad' 'Kathmandu'\n",
      " 'Simferopol' 'Thiruvananthapuram' 'Khabarovsk' 'Zanzibar'\n",
      " 'Chitose / Tomakomai']\n",
      "301\n"
     ]
    }
   ],
   "source": [
    "print(data['ARRIVEE_LIEU'].unique())\n",
    "print(len(data['ARRIVEE_LIEU'].unique()))"
   ]
  },
  {
   "cell_type": "code",
   "execution_count": 77,
   "metadata": {},
   "outputs": [],
   "source": [
    "data['TEMPS_RETARD_TOTAL'] = data['TEMPS_RETARD_DEPART'] + data['TEMPS_RETARD_ARRIVEE']"
   ]
  },
  {
   "cell_type": "code",
   "execution_count": 78,
   "metadata": {},
   "outputs": [
    {
     "data": {
      "text/plain": [
       "1855261"
      ]
     },
     "execution_count": 78,
     "metadata": {},
     "output_type": "execute_result"
    }
   ],
   "source": [
    "data[data['TEMPS_RETARD_TOTAL'] <= 0]['TEMPS_RETARD_TOTAL'].count()"
   ]
  },
  {
   "cell_type": "markdown",
   "metadata": {},
   "source": [
    "Il y a 3 000 000 vols dont 1 855 261 qui arrivent avant leur heure prévue et 1 085 154 qui arrivent en retard. Dans un premier temps, on va réaliser une classification retard/pas retard. On ne devrait par ailleurs pas avoir de problème d'échantillonage car on a un rassio de 2/6 de vols en retard et 4/6 de vols en avance."
   ]
  },
  {
   "cell_type": "code",
   "execution_count": 79,
   "metadata": {},
   "outputs": [],
   "source": [
    "def normalize_late_arrival(x):\n",
    "    if x == 0.0:\n",
    "        return 0\n",
    "    elif x > 0 and x < 1:\n",
    "        return 0\n",
    "    elif x > -1 and x < 0:\n",
    "        return 0\n",
    "    elif x >= 1:\n",
    "        return np.log(x)\n",
    "    else:\n",
    "        return - np.log(- x)"
   ]
  },
  {
   "cell_type": "code",
   "execution_count": 80,
   "metadata": {},
   "outputs": [],
   "source": [
    "log_arrival = data[data['TEMPS_RETARD_TOTAL'].notna()]['TEMPS_RETARD_TOTAL'].apply(normalize_late_arrival)"
   ]
  },
  {
   "cell_type": "code",
   "execution_count": 81,
   "metadata": {},
   "outputs": [
    {
     "data": {
      "text/plain": [
       "<matplotlib.axes._subplots.AxesSubplot at 0x1c5fff906d0>"
      ]
     },
     "execution_count": 81,
     "metadata": {},
     "output_type": "execute_result"
    },
    {
     "data": {
      "image/png": "[encoded data removed]",
      "text/plain": [
       "<Figure size 432x288 with 1 Axes>"
      ]
     },
     "metadata": {},
     "output_type": "display_data"
    }
   ],
   "source": [
    "log_arrival.hist()"
   ]
  },
  {
   "cell_type": "markdown",
   "metadata": {},
   "source": [
    "On peut voir que de manière générale les vols arrivent en avance."
   ]
  },
  {
   "cell_type": "code",
   "execution_count": 16,
   "metadata": {},
   "outputs": [
    {
     "data": {
      "text/plain": [
       "-162.0"
      ]
     },
     "execution_count": 16,
     "metadata": {},
     "output_type": "execute_result"
    }
   ],
   "source": [
    "data['TEMPS_RETARD_TOTAL'].min()"
   ]
  },
  {
   "cell_type": "code",
   "execution_count": 17,
   "metadata": {},
   "outputs": [
    {
     "data": {
      "text/plain": [
       "3959.0"
      ]
     },
     "execution_count": 17,
     "metadata": {},
     "output_type": "execute_result"
    }
   ],
   "source": [
    "data['TEMPS_RETARD_TOTAL'].max()"
   ]
  },
  {
   "cell_type": "markdown",
   "metadata": {},
   "source": [
    "## Selection des features et du modèles"
   ]
  },
  {
   "cell_type": "code",
   "execution_count": 82,
   "metadata": {},
   "outputs": [
    {
     "name": "stderr",
     "output_type": "stream",
     "text": [
      "<ipython-input-82-023c41622395>:4: SettingWithCopyWarning: \n",
      "A value is trying to be set on a copy of a slice from a DataFrame.\n",
      "Try using .loc[row_indexer,col_indexer] = value instead\n",
      "\n",
      "See the caveats in the documentation: https://pandas.pydata.org/pandas-docs/stable/user_guide/indexing.html#returning-a-view-versus-a-copy\n",
      "  data_clean['Y'] = data_clean['TEMPS_RETARD_TOTAL'].apply(lambda x: True if x <= 0 else False)\n"
     ]
    }
   ],
   "source": [
    "# Création de la valeur binaire retard\n",
    "# On supprime l'ensemble des vols annulés/retardés/reprogrammés\n",
    "data_clean = data[data['TEMPS_RETARD_TOTAL'].notna()]\n",
    "data_clean['Y'] = data_clean['TEMPS_RETARD_TOTAL'].apply(lambda x: True if x <= 0 else False)"
   ]
  },
  {
   "cell_type": "code",
   "execution_count": 83,
   "metadata": {},
   "outputs": [],
   "source": [
    "y = data_clean['TEMPS_RETARD_TOTAL'].apply(lambda x: True if x <= 0 else False)"
   ]
  },
  {
   "cell_type": "code",
   "execution_count": 51,
   "metadata": {},
   "outputs": [
    {
     "data": {
      "text/plain": [
       "True     1855261\n",
       "False    1085154\n",
       "Name: TEMPS_RETARD_TOTAL, dtype: int64"
      ]
     },
     "execution_count": 51,
     "metadata": {},
     "output_type": "execute_result"
    }
   ],
   "source": [
    "y.value_counts()"
   ]
  },
  {
   "cell_type": "code",
   "execution_count": 55,
   "metadata": {},
   "outputs": [
    {
     "data": {
      "text/plain": [
       "0.6309520934970064"
      ]
     },
     "execution_count": 55,
     "metadata": {},
     "output_type": "execute_result"
    }
   ],
   "source": [
    "1855261 / (1855261+1085154)"
   ]
  },
  {
   "cell_type": "code",
   "execution_count": 85,
   "metadata": {},
   "outputs": [],
   "source": [
    "columns = ['DATE', 'HEURE_ATTERRISSAGE', 'HEURE_DEPART','DEPART_PAYS', 'ARRIVEE_PAYS','COMPAGNIE', 'TEMPS_VOL', 'DISTANCE', 'CODE_AVION', 'AEROPORT_ARRIVEE', 'AEROPORT_DEPART', 'DEPART_PRIX_RETARD_10', \n",
    "   'DEPART_PRIX_RETARD_APRES', 'ARRIVEE_PRIX_RETARD_10', 'ARRIVEE_PRIX_RETARD_APRES']\n",
    "X = data_clean[columns]"
   ]
  },
  {
   "cell_type": "code",
   "execution_count": 86,
   "metadata": {},
   "outputs": [
    {
     "data": {
      "text/html": [
       "<div>\n",
       "<style scoped>\n",
       "    .dataframe tbody tr th:only-of-type {\n",
       "        vertical-align: middle;\n",
       "    }\n",
       "\n",
       "    .dataframe tbody tr th {\n",
       "        vertical-align: top;\n",
       "    }\n",
       "\n",
       "    .dataframe thead th {\n",
       "        text-align: right;\n",
       "    }\n",
       "</style>\n",
       "<table border=\"1\" class=\"dataframe\">\n",
       "  <thead>\n",
       "    <tr style=\"text-align: right;\">\n",
       "      <th></th>\n",
       "      <th>Y</th>\n",
       "      <th>HEURE_ATTERRISSAGE</th>\n",
       "      <th>HEURE_DEPART</th>\n",
       "      <th>TEMPS_VOL</th>\n",
       "      <th>DISTANCE</th>\n",
       "      <th>DEPART_PRIX_RETARD_10</th>\n",
       "      <th>DEPART_PRIX_RETARD_APRES</th>\n",
       "      <th>ARRIVEE_PRIX_RETARD_10</th>\n",
       "      <th>ARRIVEE_PRIX_RETARD_APRES</th>\n",
       "    </tr>\n",
       "  </thead>\n",
       "  <tbody>\n",
       "    <tr>\n",
       "      <th>Y</th>\n",
       "      <td>1.000000</td>\n",
       "      <td>-0.111610</td>\n",
       "      <td>-0.161713</td>\n",
       "      <td>-0.057249</td>\n",
       "      <td>-0.037203</td>\n",
       "      <td>-0.017584</td>\n",
       "      <td>-0.001889</td>\n",
       "      <td>-0.017584</td>\n",
       "      <td>-0.001889</td>\n",
       "    </tr>\n",
       "    <tr>\n",
       "      <th>HEURE_ATTERRISSAGE</th>\n",
       "      <td>-0.111610</td>\n",
       "      <td>1.000000</td>\n",
       "      <td>0.663862</td>\n",
       "      <td>0.020585</td>\n",
       "      <td>0.014876</td>\n",
       "      <td>-0.006081</td>\n",
       "      <td>-0.024278</td>\n",
       "      <td>-0.006081</td>\n",
       "      <td>-0.024278</td>\n",
       "    </tr>\n",
       "    <tr>\n",
       "      <th>HEURE_DEPART</th>\n",
       "      <td>-0.161713</td>\n",
       "      <td>0.663862</td>\n",
       "      <td>1.000000</td>\n",
       "      <td>-0.009501</td>\n",
       "      <td>-0.004892</td>\n",
       "      <td>-0.027857</td>\n",
       "      <td>-0.042668</td>\n",
       "      <td>-0.027857</td>\n",
       "      <td>-0.042668</td>\n",
       "    </tr>\n",
       "    <tr>\n",
       "      <th>TEMPS_VOL</th>\n",
       "      <td>-0.057249</td>\n",
       "      <td>0.020585</td>\n",
       "      <td>-0.009501</td>\n",
       "      <td>1.000000</td>\n",
       "      <td>0.986040</td>\n",
       "      <td>-0.004243</td>\n",
       "      <td>0.017653</td>\n",
       "      <td>-0.004243</td>\n",
       "      <td>0.017653</td>\n",
       "    </tr>\n",
       "    <tr>\n",
       "      <th>DISTANCE</th>\n",
       "      <td>-0.037203</td>\n",
       "      <td>0.014876</td>\n",
       "      <td>-0.004892</td>\n",
       "      <td>0.986040</td>\n",
       "      <td>1.000000</td>\n",
       "      <td>-0.003769</td>\n",
       "      <td>0.007899</td>\n",
       "      <td>-0.003769</td>\n",
       "      <td>0.007899</td>\n",
       "    </tr>\n",
       "    <tr>\n",
       "      <th>DEPART_PRIX_RETARD_10</th>\n",
       "      <td>-0.017584</td>\n",
       "      <td>-0.006081</td>\n",
       "      <td>-0.027857</td>\n",
       "      <td>-0.004243</td>\n",
       "      <td>-0.003769</td>\n",
       "      <td>1.000000</td>\n",
       "      <td>0.130719</td>\n",
       "      <td>1.000000</td>\n",
       "      <td>0.130719</td>\n",
       "    </tr>\n",
       "    <tr>\n",
       "      <th>DEPART_PRIX_RETARD_APRES</th>\n",
       "      <td>-0.001889</td>\n",
       "      <td>-0.024278</td>\n",
       "      <td>-0.042668</td>\n",
       "      <td>0.017653</td>\n",
       "      <td>0.007899</td>\n",
       "      <td>0.130719</td>\n",
       "      <td>1.000000</td>\n",
       "      <td>0.130719</td>\n",
       "      <td>1.000000</td>\n",
       "    </tr>\n",
       "    <tr>\n",
       "      <th>ARRIVEE_PRIX_RETARD_10</th>\n",
       "      <td>-0.017584</td>\n",
       "      <td>-0.006081</td>\n",
       "      <td>-0.027857</td>\n",
       "      <td>-0.004243</td>\n",
       "      <td>-0.003769</td>\n",
       "      <td>1.000000</td>\n",
       "      <td>0.130719</td>\n",
       "      <td>1.000000</td>\n",
       "      <td>0.130719</td>\n",
       "    </tr>\n",
       "    <tr>\n",
       "      <th>ARRIVEE_PRIX_RETARD_APRES</th>\n",
       "      <td>-0.001889</td>\n",
       "      <td>-0.024278</td>\n",
       "      <td>-0.042668</td>\n",
       "      <td>0.017653</td>\n",
       "      <td>0.007899</td>\n",
       "      <td>0.130719</td>\n",
       "      <td>1.000000</td>\n",
       "      <td>0.130719</td>\n",
       "      <td>1.000000</td>\n",
       "    </tr>\n",
       "  </tbody>\n",
       "</table>\n",
       "</div>"
      ],
      "text/plain": [
       "                                  Y  HEURE_ATTERRISSAGE  HEURE_DEPART  \\\n",
       "Y                          1.000000           -0.111610     -0.161713   \n",
       "HEURE_ATTERRISSAGE        -0.111610            1.000000      0.663862   \n",
       "HEURE_DEPART              -0.161713            0.663862      1.000000   \n",
       "TEMPS_VOL                 -0.057249            0.020585     -0.009501   \n",
       "DISTANCE                  -0.037203            0.014876     -0.004892   \n",
       "DEPART_PRIX_RETARD_10     -0.017584           -0.006081     -0.027857   \n",
       "DEPART_PRIX_RETARD_APRES  -0.001889           -0.024278     -0.042668   \n",
       "ARRIVEE_PRIX_RETARD_10    -0.017584           -0.006081     -0.027857   \n",
       "ARRIVEE_PRIX_RETARD_APRES -0.001889           -0.024278     -0.042668   \n",
       "\n",
       "                           TEMPS_VOL  DISTANCE  DEPART_PRIX_RETARD_10  \\\n",
       "Y                          -0.057249 -0.037203              -0.017584   \n",
       "HEURE_ATTERRISSAGE          0.020585  0.014876              -0.006081   \n",
       "HEURE_DEPART               -0.009501 -0.004892              -0.027857   \n",
       "TEMPS_VOL                   1.000000  0.986040              -0.004243   \n",
       "DISTANCE                    0.986040  1.000000              -0.003769   \n",
       "DEPART_PRIX_RETARD_10      -0.004243 -0.003769               1.000000   \n",
       "DEPART_PRIX_RETARD_APRES    0.017653  0.007899               0.130719   \n",
       "ARRIVEE_PRIX_RETARD_10     -0.004243 -0.003769               1.000000   \n",
       "ARRIVEE_PRIX_RETARD_APRES   0.017653  0.007899               0.130719   \n",
       "\n",
       "                           DEPART_PRIX_RETARD_APRES  ARRIVEE_PRIX_RETARD_10  \\\n",
       "Y                                         -0.001889               -0.017584   \n",
       "HEURE_ATTERRISSAGE                        -0.024278               -0.006081   \n",
       "HEURE_DEPART                              -0.042668               -0.027857   \n",
       "TEMPS_VOL                                  0.017653               -0.004243   \n",
       "DISTANCE                                   0.007899               -0.003769   \n",
       "DEPART_PRIX_RETARD_10                      0.130719                1.000000   \n",
       "DEPART_PRIX_RETARD_APRES                   1.000000                0.130719   \n",
       "ARRIVEE_PRIX_RETARD_10                     0.130719                1.000000   \n",
       "ARRIVEE_PRIX_RETARD_APRES                  1.000000                0.130719   \n",
       "\n",
       "                           ARRIVEE_PRIX_RETARD_APRES  \n",
       "Y                                          -0.001889  \n",
       "HEURE_ATTERRISSAGE                         -0.024278  \n",
       "HEURE_DEPART                               -0.042668  \n",
       "TEMPS_VOL                                   0.017653  \n",
       "DISTANCE                                    0.007899  \n",
       "DEPART_PRIX_RETARD_10                       0.130719  \n",
       "DEPART_PRIX_RETARD_APRES                    1.000000  \n",
       "ARRIVEE_PRIX_RETARD_10                      0.130719  \n",
       "ARRIVEE_PRIX_RETARD_APRES                   1.000000  "
      ]
     },
     "execution_count": 86,
     "metadata": {},
     "output_type": "execute_result"
    }
   ],
   "source": [
    "corr = data_clean[['Y'] + columns].corr()\n",
    "corr"
   ]
  },
  {
   "cell_type": "code",
   "execution_count": 87,
   "metadata": {},
   "outputs": [],
   "source": [
    "def _encode_dates(X):\n",
    "    X_encoded = X.copy()\n",
    "    X_encoded.loc[:, 'DATE'] = pd.to_datetime(X_encoded['DATE'], format=\"%d/%m/%Y\", errors=\"coerce\")\n",
    "    X_encoded.loc[:, 'YEAR'] = X_encoded['DATE'].dt.year\n",
    "    X_encoded.loc[:, 'MONTH'] = X_encoded['DATE'].dt.month\n",
    "    X_encoded.loc[:, 'DAY'] = X_encoded['DATE'].dt.day\n",
    "    X_encoded.loc[:, 'WEEKDAY'] = X_encoded['DATE'].dt.weekday\n",
    "    X_encoded.loc[:, 'WEEK'] = X_encoded['DATE'].dt.week\n",
    "    return X_encoded.drop(columns=[\"DATE\"])\n",
    "\n",
    "date_encoder = FunctionTransformer(_encode_dates)"
   ]
  },
  {
   "cell_type": "code",
   "execution_count": 14,
   "metadata": {},
   "outputs": [],
   "source": [
    "date_encoder = FunctionTransformer(_encode_dates)\n",
    "date_cols = [\"DATE\"]\n",
    "\n",
    "categorical_encoder = OneHotEncoder(handle_unknown=\"ignore\")\n",
    "categorical_cols = [\n",
    "    \"DEPART_PAYS\", \"ARRIVEE_PAYS\", \"COMPAGNIE\", \"YEAR\", \"MONTH\", \"DAY\",\n",
    "    \"WEEKDAY\", \"WEEK\", \"CODE_AVION\", \"AEROPORT_ARRIVEE\", \"AEROPORT_DEPART\"\n",
    "]\n",
    "\n",
    "numerical_scaler = StandardScaler()\n",
    "numerical_cols = [\"HEURE_ATTERRISSAGE\", \"HEURE_DEPART\", \"TEMPS_VOL\", \"DISTANCE\"]\n",
    "\n",
    "preprocessor = make_column_transformer(\n",
    "    (categorical_encoder, categorical_cols),\n",
    "    (numerical_scaler, numerical_cols)\n",
    ")"
   ]
  },
  {
   "cell_type": "markdown",
   "metadata": {},
   "source": [
    "## KNN"
   ]
  },
  {
   "cell_type": "code",
   "execution_count": 26,
   "metadata": {},
   "outputs": [],
   "source": [
    "from sklearn.neighbors import KNeighborsClassifier\n",
    "regressor = KNeighborsClassifier(n_neighbors=3, n_jobs=-1)\n",
    "pipeline = make_pipeline(date_encoder, preprocessor, regressor)"
   ]
  },
  {
   "cell_type": "code",
   "execution_count": 146,
   "metadata": {},
   "outputs": [],
   "source": [
    "X_train, X_test, y_train, y_test = train_test_split(\n",
    "    X, y, test_size=0.25, random_state=42)"
   ]
  },
  {
   "cell_type": "code",
   "execution_count": 28,
   "metadata": {},
   "outputs": [],
   "source": [
    "# model = pipeline.fit(X_train, y_train)\n",
    "# joblib.dump(model, 'filename.pkl')"
   ]
  },
  {
   "cell_type": "code",
   "execution_count": 29,
   "metadata": {},
   "outputs": [
    {
     "name": "stderr",
     "output_type": "stream",
     "text": [
      "C:\\ProgramData\\Anaconda3\\envs\\flight-delay-forecast\\lib\\site-packages\\sklearn\\externals\\joblib\\__init__.py:15: FutureWarning: sklearn.externals.joblib is deprecated in 0.21 and will be removed in 0.23. Please import this functionality directly from joblib, which can be installed with: pip install joblib. If this warning is raised when loading pickled models, you may need to re-serialize those models with scikit-learn 0.21+.\n",
      "  warnings.warn(msg, category=FutureWarning)\n"
     ]
    }
   ],
   "source": [
    "from sklearn.externals import joblib\n",
    "model = joblib.load('filename.pkl')"
   ]
  },
  {
   "cell_type": "code",
   "execution_count": 33,
   "metadata": {},
   "outputs": [
    {
     "name": "stdout",
     "output_type": "stream",
     "text": [
      "Wall time: 1min 38s\n"
     ]
    }
   ],
   "source": [
    "%%time\n",
    "y_predict = model.predict(X_test.head(1000))"
   ]
  },
  {
   "cell_type": "code",
   "execution_count": 36,
   "metadata": {},
   "outputs": [
    {
     "name": "stdout",
     "output_type": "stream",
     "text": [
      "               precision    recall  f1-score   support\n",
      "\n",
      "Pas en retard       0.46      0.58      0.51       297\n",
      "    En retard       0.80      0.71      0.75       703\n",
      "\n",
      "     accuracy                           0.67      1000\n",
      "    macro avg       0.63      0.64      0.63      1000\n",
      " weighted avg       0.70      0.67      0.68      1000\n",
      "\n"
     ]
    }
   ],
   "source": [
    "from sklearn.metrics import classification_report\n",
    "target_names = ['Pas en retard', 'En retard']\n",
    "print(classification_report(y_predict, y_test.head(1000), target_names=target_names))"
   ]
  },
  {
   "cell_type": "markdown",
   "metadata": {},
   "source": [
    "Performance très mauvaise à la prédiction (1min pour 1000 lignes) et les performance du modèles sont un peu meilleur que l'humain (4/6)."
   ]
  },
  {
   "cell_type": "markdown",
   "metadata": {},
   "source": [
    "## SGDClassifier"
   ]
  },
  {
   "cell_type": "code",
   "execution_count": 180,
   "metadata": {},
   "outputs": [],
   "source": [
    "date_encoder = FunctionTransformer(_encode_dates)\n",
    "date_cols = [\"DATE\"]\n",
    "\n",
    "categorical_encoder = OneHotEncoder()\n",
    "categorical_cols = [\n",
    "    \"DEPART_PAYS\", \"ARRIVEE_PAYS\", \"COMPAGNIE\", \"CODE_AVION\", \"AEROPORT_ARRIVEE\", \"AEROPORT_DEPART\", \"DEPART_PRIX_RETARD_10\", \n",
    "    \"DEPART_PRIX_RETARD_APRES\", \"ARRIVEE_PRIX_RETARD_10\", \"ARRIVEE_PRIX_RETARD_APRES\"\n",
    "]\n",
    "\n",
    "numerical_scaler = StandardScaler()\n",
    "# numerical_cols = [\"HEURE_ATTERRISSAGE\", \"HEURE_DEPART\", \"TEMPS_VOL\", \"DISTANCE\"]\n",
    "\n",
    "preprocessor = make_column_transformer(\n",
    "    (categorical_encoder, categorical_cols),\n",
    "    remainder=numerical_scaler\n",
    ")"
   ]
  },
  {
   "cell_type": "code",
   "execution_count": 181,
   "metadata": {},
   "outputs": [],
   "source": [
    "X_full = X[[\"DATE\",\"DEPART_PAYS\", \"ARRIVEE_PAYS\", \"COMPAGNIE\", \n",
    "       \"CODE_AVION\", \"AEROPORT_ARRIVEE\", \"AEROPORT_DEPART\", \"HEURE_ATTERRISSAGE\", \n",
    "       \"HEURE_DEPART\", \"TEMPS_VOL\", \"DISTANCE\", \"DEPART_PRIX_RETARD_10\", \n",
    "    \"DEPART_PRIX_RETARD_APRES\", \"ARRIVEE_PRIX_RETARD_10\", \"ARRIVEE_PRIX_RETARD_APRES\"]]"
   ]
  },
  {
   "cell_type": "code",
   "execution_count": 182,
   "metadata": {},
   "outputs": [],
   "source": [
    "from sklearn.linear_model import SGDClassifier\n",
    "regressor = SGDClassifier(max_iter=1000,  n_jobs=-1)\n",
    "pipeline = make_pipeline(date_encoder, preprocessor, regressor)"
   ]
  },
  {
   "cell_type": "code",
   "execution_count": 183,
   "metadata": {},
   "outputs": [
    {
     "name": "stdout",
     "output_type": "stream",
     "text": [
      "Wall time: 15 s\n"
     ]
    }
   ],
   "source": [
    "%%time\n",
    "X_full = date_encoder.fit_transform(X_full)\n",
    "X_full = preprocessor.fit_transform(X_full)"
   ]
  },
  {
   "cell_type": "code",
   "execution_count": 184,
   "metadata": {},
   "outputs": [],
   "source": [
    "X_train, X_test, y_train, y_test = train_test_split(\n",
    "    X_full, y, test_size=0.25, random_state=42)"
   ]
  },
  {
   "cell_type": "code",
   "execution_count": 185,
   "metadata": {
    "collapsed": true
   },
   "outputs": [
    {
     "ename": "ValueError",
     "evalue": "Found input variables with inconsistent numbers of samples: [2205311, 735104]",
     "output_type": "error",
     "traceback": [
      "\u001b[1;31m---------------------------------------------------------------------------\u001b[0m",
      "\u001b[1;31mValueError\u001b[0m                                Traceback (most recent call last)",
      "\u001b[1;32m<ipython-input-185-9c3e1bcceb7d>\u001b[0m in \u001b[0;36m<module>\u001b[1;34m\u001b[0m\n\u001b[1;32m----> 1\u001b[1;33m \u001b[0mmodel\u001b[0m \u001b[1;33m=\u001b[0m \u001b[0mregressor\u001b[0m\u001b[1;33m.\u001b[0m\u001b[0mfit\u001b[0m\u001b[1;33m(\u001b[0m\u001b[0mX_train\u001b[0m\u001b[1;33m,\u001b[0m\u001b[0my_test\u001b[0m\u001b[1;33m)\u001b[0m\u001b[1;33m\u001b[0m\u001b[1;33m\u001b[0m\u001b[0m\n\u001b[0m",
      "\u001b[1;32mC:\\ProgramData\\Anaconda3\\envs\\flight-delay-forecast\\lib\\site-packages\\sklearn\\linear_model\\_stochastic_gradient.py\u001b[0m in \u001b[0;36mfit\u001b[1;34m(self, X, y, coef_init, intercept_init, sample_weight)\u001b[0m\n\u001b[0;32m    706\u001b[0m             \u001b[0mReturns\u001b[0m \u001b[0man\u001b[0m \u001b[0minstance\u001b[0m \u001b[0mof\u001b[0m \u001b[0mself\u001b[0m\u001b[1;33m.\u001b[0m\u001b[1;33m\u001b[0m\u001b[1;33m\u001b[0m\u001b[0m\n\u001b[0;32m    707\u001b[0m         \"\"\"\n\u001b[1;32m--> 708\u001b[1;33m         return self._fit(X, y, alpha=self.alpha, C=1.0,\n\u001b[0m\u001b[0;32m    709\u001b[0m                          \u001b[0mloss\u001b[0m\u001b[1;33m=\u001b[0m\u001b[0mself\u001b[0m\u001b[1;33m.\u001b[0m\u001b[0mloss\u001b[0m\u001b[1;33m,\u001b[0m \u001b[0mlearning_rate\u001b[0m\u001b[1;33m=\u001b[0m\u001b[0mself\u001b[0m\u001b[1;33m.\u001b[0m\u001b[0mlearning_rate\u001b[0m\u001b[1;33m,\u001b[0m\u001b[1;33m\u001b[0m\u001b[1;33m\u001b[0m\u001b[0m\n\u001b[0;32m    710\u001b[0m                          \u001b[0mcoef_init\u001b[0m\u001b[1;33m=\u001b[0m\u001b[0mcoef_init\u001b[0m\u001b[1;33m,\u001b[0m \u001b[0mintercept_init\u001b[0m\u001b[1;33m=\u001b[0m\u001b[0mintercept_init\u001b[0m\u001b[1;33m,\u001b[0m\u001b[1;33m\u001b[0m\u001b[1;33m\u001b[0m\u001b[0m\n",
      "\u001b[1;32mC:\\ProgramData\\Anaconda3\\envs\\flight-delay-forecast\\lib\\site-packages\\sklearn\\linear_model\\_stochastic_gradient.py\u001b[0m in \u001b[0;36m_fit\u001b[1;34m(self, X, y, alpha, C, loss, learning_rate, coef_init, intercept_init, sample_weight)\u001b[0m\n\u001b[0;32m    522\u001b[0m             \u001b[0mself\u001b[0m\u001b[1;33m.\u001b[0m\u001b[0mclasses_\u001b[0m \u001b[1;33m=\u001b[0m \u001b[1;32mNone\u001b[0m\u001b[1;33m\u001b[0m\u001b[1;33m\u001b[0m\u001b[0m\n\u001b[0;32m    523\u001b[0m \u001b[1;33m\u001b[0m\u001b[0m\n\u001b[1;32m--> 524\u001b[1;33m         X, y = check_X_y(X, y, 'csr', dtype=np.float64, order=\"C\",\n\u001b[0m\u001b[0;32m    525\u001b[0m                          accept_large_sparse=False)\n\u001b[0;32m    526\u001b[0m \u001b[1;33m\u001b[0m\u001b[0m\n",
      "\u001b[1;32mC:\\ProgramData\\Anaconda3\\envs\\flight-delay-forecast\\lib\\site-packages\\sklearn\\utils\\validation.py\u001b[0m in \u001b[0;36mcheck_X_y\u001b[1;34m(X, y, accept_sparse, accept_large_sparse, dtype, order, copy, force_all_finite, ensure_2d, allow_nd, multi_output, ensure_min_samples, ensure_min_features, y_numeric, warn_on_dtype, estimator)\u001b[0m\n\u001b[0;32m    763\u001b[0m         \u001b[0my\u001b[0m \u001b[1;33m=\u001b[0m \u001b[0my\u001b[0m\u001b[1;33m.\u001b[0m\u001b[0mastype\u001b[0m\u001b[1;33m(\u001b[0m\u001b[0mnp\u001b[0m\u001b[1;33m.\u001b[0m\u001b[0mfloat64\u001b[0m\u001b[1;33m)\u001b[0m\u001b[1;33m\u001b[0m\u001b[1;33m\u001b[0m\u001b[0m\n\u001b[0;32m    764\u001b[0m \u001b[1;33m\u001b[0m\u001b[0m\n\u001b[1;32m--> 765\u001b[1;33m     \u001b[0mcheck_consistent_length\u001b[0m\u001b[1;33m(\u001b[0m\u001b[0mX\u001b[0m\u001b[1;33m,\u001b[0m \u001b[0my\u001b[0m\u001b[1;33m)\u001b[0m\u001b[1;33m\u001b[0m\u001b[1;33m\u001b[0m\u001b[0m\n\u001b[0m\u001b[0;32m    766\u001b[0m \u001b[1;33m\u001b[0m\u001b[0m\n\u001b[0;32m    767\u001b[0m     \u001b[1;32mreturn\u001b[0m \u001b[0mX\u001b[0m\u001b[1;33m,\u001b[0m \u001b[0my\u001b[0m\u001b[1;33m\u001b[0m\u001b[1;33m\u001b[0m\u001b[0m\n",
      "\u001b[1;32mC:\\ProgramData\\Anaconda3\\envs\\flight-delay-forecast\\lib\\site-packages\\sklearn\\utils\\validation.py\u001b[0m in \u001b[0;36mcheck_consistent_length\u001b[1;34m(*arrays)\u001b[0m\n\u001b[0;32m    209\u001b[0m     \u001b[0muniques\u001b[0m \u001b[1;33m=\u001b[0m \u001b[0mnp\u001b[0m\u001b[1;33m.\u001b[0m\u001b[0munique\u001b[0m\u001b[1;33m(\u001b[0m\u001b[0mlengths\u001b[0m\u001b[1;33m)\u001b[0m\u001b[1;33m\u001b[0m\u001b[1;33m\u001b[0m\u001b[0m\n\u001b[0;32m    210\u001b[0m     \u001b[1;32mif\u001b[0m \u001b[0mlen\u001b[0m\u001b[1;33m(\u001b[0m\u001b[0muniques\u001b[0m\u001b[1;33m)\u001b[0m \u001b[1;33m>\u001b[0m \u001b[1;36m1\u001b[0m\u001b[1;33m:\u001b[0m\u001b[1;33m\u001b[0m\u001b[1;33m\u001b[0m\u001b[0m\n\u001b[1;32m--> 211\u001b[1;33m         raise ValueError(\"Found input variables with inconsistent numbers of\"\n\u001b[0m\u001b[0;32m    212\u001b[0m                          \" samples: %r\" % [int(l) for l in lengths])\n\u001b[0;32m    213\u001b[0m \u001b[1;33m\u001b[0m\u001b[0m\n",
      "\u001b[1;31mValueError\u001b[0m: Found input variables with inconsistent numbers of samples: [2205311, 735104]"
     ]
    }
   ],
   "source": [
    "model = regressor.fit(X_train,y_test)"
   ]
  },
  {
   "cell_type": "markdown",
   "metadata": {},
   "source": [
    "Erreur avec le modèle"
   ]
  },
  {
   "cell_type": "code",
   "execution_count": null,
   "metadata": {},
   "outputs": [],
   "source": [
    "%%time\n",
    "y_predict = model.predict(X_test)\n",
    "from sklearn.metrics import classification_report\n",
    "target_names = ['Pas en retard', 'En retard']\n",
    "print(classification_report(y_predict, y_test, target_names=target_names))"
   ]
  },
  {
   "cell_type": "markdown",
   "metadata": {},
   "source": [
    "## Random Forest"
   ]
  },
  {
   "cell_type": "code",
   "execution_count": 88,
   "metadata": {},
   "outputs": [],
   "source": [
    "date_encoder = FunctionTransformer(_encode_dates)\n",
    "date_cols = [\"DATE\"]\n",
    "\n",
    "categorical_encoder = OrdinalEncoder()\n",
    "categorical_cols = [\n",
    "    \"DEPART_PAYS\", \"ARRIVEE_PAYS\", \"COMPAGNIE\", \"CODE_AVION\", \"AEROPORT_ARRIVEE\", \"AEROPORT_DEPART\", \"DEPART_PRIX_RETARD_10\", \n",
    "    \"DEPART_PRIX_RETARD_APRES\", \"ARRIVEE_PRIX_RETARD_10\", \"ARRIVEE_PRIX_RETARD_APRES\"\n",
    "]\n",
    "\n",
    "preprocessor = make_column_transformer(\n",
    "    (categorical_encoder, categorical_cols),\n",
    "    remainder='passthrough'\n",
    ")"
   ]
  },
  {
   "cell_type": "code",
   "execution_count": 89,
   "metadata": {},
   "outputs": [],
   "source": [
    "X_full = X[[\"DATE\",\"DEPART_PAYS\", \"ARRIVEE_PAYS\", \"COMPAGNIE\", \n",
    "       \"CODE_AVION\", \"AEROPORT_ARRIVEE\", \"AEROPORT_DEPART\", \"HEURE_ATTERRISSAGE\", \n",
    "       \"HEURE_DEPART\", \"TEMPS_VOL\", \"DISTANCE\", \"DEPART_PRIX_RETARD_10\", \n",
    "    \"DEPART_PRIX_RETARD_APRES\", \"ARRIVEE_PRIX_RETARD_10\", \"ARRIVEE_PRIX_RETARD_APRES\"]]"
   ]
  },
  {
   "cell_type": "code",
   "execution_count": 90,
   "metadata": {},
   "outputs": [],
   "source": [
    "X_full = date_encoder.fit_transform(X_full)\n",
    "X_full = preprocessor.fit_transform(X_full)"
   ]
  },
  {
   "cell_type": "code",
   "execution_count": 91,
   "metadata": {},
   "outputs": [],
   "source": [
    "X_train, X_test, y_train, y_test = train_test_split(X_full, y, test_size=0.25, random_state=42)"
   ]
  },
  {
   "cell_type": "code",
   "execution_count": 92,
   "metadata": {},
   "outputs": [],
   "source": [
    "model = RandomForestClassifier(\n",
    "    n_estimators=50, max_depth=100, n_jobs=-1\n",
    ")"
   ]
  },
  {
   "cell_type": "code",
   "execution_count": 93,
   "metadata": {},
   "outputs": [
    {
     "name": "stdout",
     "output_type": "stream",
     "text": [
      "Wall time: 1min 42s\n"
     ]
    }
   ],
   "source": [
    "%%time\n",
    "model = model.fit(X_train, y_train)"
   ]
  },
  {
   "cell_type": "code",
   "execution_count": 95,
   "metadata": {},
   "outputs": [
    {
     "data": {
      "image/png": "[encoded data removed]",
      "text/plain": [
       "<Figure size 432x288 with 1 Axes>"
      ]
     },
     "metadata": {},
     "output_type": "display_data"
    }
   ],
   "source": [
    "from sklearn.metrics import plot_roc_curve\n",
    "y_predict = plot_roc_curve(model, X_test, y_test)\n",
    "plt.show()"
   ]
  },
  {
   "cell_type": "code",
   "execution_count": 98,
   "metadata": {
    "scrolled": true
   },
   "outputs": [
    {
     "name": "stdout",
     "output_type": "stream",
     "text": [
      "               precision    recall  f1-score   support\n",
      "\n",
      "    En retard       0.63      0.81      0.71    208453\n",
      "Pas en retard       0.92      0.81      0.86    526651\n",
      "\n",
      "     accuracy                           0.81    735104\n",
      "    macro avg       0.77      0.81      0.78    735104\n",
      " weighted avg       0.83      0.81      0.82    735104\n",
      "\n",
      "Wall time: 5.07 s\n"
     ]
    }
   ],
   "source": [
    "%%time\n",
    "from sklearn.metrics import classification_report\n",
    "y_predict = model.predict(X_test)\n",
    "target_names = ['En retard', 'Pas en retard']\n",
    "print(classification_report(y_predict, y_test, target_names=target_names))"
   ]
  },
  {
   "cell_type": "code",
   "execution_count": 111,
   "metadata": {},
   "outputs": [
    {
     "data": {
      "text/plain": [
       "636443"
      ]
     },
     "execution_count": 111,
     "metadata": {},
     "output_type": "execute_result"
    }
   ],
   "source": [
    "list(y_predict).count(True)"
   ]
  },
  {
   "cell_type": "code",
   "execution_count": 112,
   "metadata": {},
   "outputs": [
    {
     "data": {
      "text/plain": [
       "98661"
      ]
     },
     "execution_count": 112,
     "metadata": {},
     "output_type": "execute_result"
    }
   ],
   "source": [
    "list(y_predict).count(False)"
   ]
  },
  {
   "cell_type": "code",
   "execution_count": 116,
   "metadata": {},
   "outputs": [
    {
     "data": {
      "text/plain": [
       "True     1855261\n",
       "False    1085154\n",
       "Name: TEMPS_RETARD_TOTAL, dtype: int64"
      ]
     },
     "execution_count": 116,
     "metadata": {},
     "output_type": "execute_result"
    }
   ],
   "source": [
    "y.value_counts()"
   ]
  },
  {
   "cell_type": "code",
   "execution_count": 117,
   "metadata": {},
   "outputs": [
    {
     "data": {
      "text/plain": [
       "True     464032\n",
       "False    271072\n",
       "Name: TEMPS_RETARD_TOTAL, dtype: int64"
      ]
     },
     "execution_count": 117,
     "metadata": {},
     "output_type": "execute_result"
    }
   ],
   "source": [
    "y_test.value_counts()"
   ]
  },
  {
   "cell_type": "markdown",
   "metadata": {},
   "source": [
    "## Random forest avec resampling"
   ]
  },
  {
   "cell_type": "code",
   "execution_count": 99,
   "metadata": {},
   "outputs": [],
   "source": [
    "from imblearn.over_sampling import SMOTE"
   ]
  },
  {
   "cell_type": "code",
   "execution_count": 100,
   "metadata": {},
   "outputs": [],
   "source": [
    "model = RandomForestClassifier(\n",
    "    n_estimators=100, max_depth=100, n_jobs=-1\n",
    ")"
   ]
  },
  {
   "cell_type": "code",
   "execution_count": 101,
   "metadata": {},
   "outputs": [],
   "source": [
    "X_full = X[[\"DATE\",\"DEPART_PAYS\", \"ARRIVEE_PAYS\", \"COMPAGNIE\", \n",
    "       \"CODE_AVION\", \"AEROPORT_ARRIVEE\", \"AEROPORT_DEPART\", \"HEURE_ATTERRISSAGE\", \n",
    "       \"HEURE_DEPART\", \"TEMPS_VOL\", \"DISTANCE\", \"DEPART_PRIX_RETARD_10\", \n",
    "    \"DEPART_PRIX_RETARD_APRES\", \"ARRIVEE_PRIX_RETARD_10\", \"ARRIVEE_PRIX_RETARD_APRES\"]]"
   ]
  },
  {
   "cell_type": "code",
   "execution_count": 102,
   "metadata": {},
   "outputs": [],
   "source": [
    "X_full = date_encoder.fit_transform(X_full)\n",
    "X_full = preprocessor.fit_transform(X_full)"
   ]
  },
  {
   "cell_type": "code",
   "execution_count": 103,
   "metadata": {},
   "outputs": [],
   "source": [
    "X_train, X_test, y_train, y_test = train_test_split(X_full, y, test_size=0.25, random_state=42)"
   ]
  },
  {
   "cell_type": "code",
   "execution_count": 104,
   "metadata": {},
   "outputs": [
    {
     "name": "stdout",
     "output_type": "stream",
     "text": [
      "Wall time: 2min 33s\n"
     ]
    }
   ],
   "source": [
    "%%time\n",
    "sm = SMOTE(random_state=42)\n",
    "X_train, y_train = sm.fit_resample(X_train, y_train)"
   ]
  },
  {
   "cell_type": "code",
   "execution_count": 105,
   "metadata": {},
   "outputs": [
    {
     "name": "stdout",
     "output_type": "stream",
     "text": [
      "Wall time: 4min 37s\n"
     ]
    }
   ],
   "source": [
    "%%time\n",
    "model = model.fit(X_train, y_train)"
   ]
  },
  {
   "cell_type": "code",
   "execution_count": 106,
   "metadata": {},
   "outputs": [
    {
     "data": {
      "image/png": "[encoded data removed]",
      "text/plain": [
       "<Figure size 432x288 with 1 Axes>"
      ]
     },
     "metadata": {},
     "output_type": "display_data"
    }
   ],
   "source": [
    "from sklearn.metrics import plot_roc_curve\n",
    "y_predict = plot_roc_curve(model, X_test, y_test)\n",
    "plt.show()"
   ]
  },
  {
   "cell_type": "code",
   "execution_count": 107,
   "metadata": {},
   "outputs": [
    {
     "name": "stdout",
     "output_type": "stream",
     "text": [
      "               precision    recall  f1-score   support\n",
      "\n",
      "Pas en retard       0.50      0.73      0.60    186353\n",
      "    En retard       0.89      0.75      0.82    548751\n",
      "\n",
      "     accuracy                           0.75    735104\n",
      "    macro avg       0.70      0.74      0.71    735104\n",
      " weighted avg       0.79      0.75      0.76    735104\n",
      "\n",
      "Wall time: 9.9 s\n"
     ]
    }
   ],
   "source": [
    "%%time\n",
    "y_predict = model.predict(X_test)\n",
    "from sklearn.metrics import classification_report\n",
    "target_names = ['Pas en retard', 'En retard']\n",
    "print(classification_report(y_predict, y_test, target_names=target_names))"
   ]
  },
  {
   "cell_type": "markdown",
   "metadata": {},
   "source": [
    "On peut voir que le resampling ne permet pas d'améliorer les résultat"
   ]
  },
  {
   "cell_type": "markdown",
   "metadata": {},
   "source": [
    "# Régression linéaire sur l'amende globale"
   ]
  },
  {
   "cell_type": "code",
   "execution_count": 32,
   "metadata": {},
   "outputs": [],
   "source": [
    "X_full = X[[\"DATE\",\"DEPART_PAYS\", \"ARRIVEE_PAYS\", \"COMPAGNIE\", \n",
    "       \"CODE_AVION\", \"AEROPORT_ARRIVEE\", \"AEROPORT_DEPART\", \"HEURE_ATTERRISSAGE\", \n",
    "       \"HEURE_DEPART\", \"TEMPS_VOL\", \"DISTANCE\", \"DEPART_PRIX_RETARD_10\", \n",
    "    \"DEPART_PRIX_RETARD_APRES\", \"ARRIVEE_PRIX_RETARD_10\", \"ARRIVEE_PRIX_RETARD_APRES\"]]"
   ]
  },
  {
   "cell_type": "code",
   "execution_count": 34,
   "metadata": {},
   "outputs": [
    {
     "data": {
      "text/plain": [
       "Index(['IDENTIFIANT', 'VOL', 'CODE_AVION', 'AEROPORT_DEPART',\n",
       "       'AEROPORT_ARRIVEE', 'HEURE_DEPART_PROGRAMME', 'HEURE_DEPART',\n",
       "       'TEMPS_RETARD_DEPART', 'TEMPS_DEPLACEMENT_DECOLLAGE', 'HEURE_DECOLLAGE',\n",
       "       'TEMPS_PROGRAMME', 'TEMPS_PASSE', 'TEMPS_VOL', 'DISTANCE',\n",
       "       'HEURE_ATTERRISSAGE', 'TEMPS_DEPLACEMENT_ATTERRISSAGE',\n",
       "       'HEURE_ARRIVEE_PROGRAMMEE', 'HEURE_ARRIVEE', 'TEMPS_RETARD_ARRIVEE',\n",
       "       'DETOURNEMENT', 'ANNULATION', 'RAISON_ANNULATION', 'RETARD_SYSTEM',\n",
       "       'RETARD_SECURITE', 'RETARD_COMPAGNIE', 'RETARD_AVION', 'RETARD_METEO',\n",
       "       'DATE', 'NIVEAU_SECURITE', 'COMPAGNIE AERIENNE', 'COMPAGNIE',\n",
       "       'DEPART_NOM', 'DEPART_LIEU', 'DEPART_PAYS', 'DEPART_LONGITUDE',\n",
       "       'DEPART_LATITUDE', 'DEPART_HAUTEUR', 'DEPART_PRIX_RETARD_10',\n",
       "       'DEPART_PRIX_RETARD_APRES', 'ARRIVEE_NOM', 'ARRIVEE_LIEU',\n",
       "       'ARRIVEE_PAYS', 'ARRIVEE_LONGITUDE', 'ARRIVEE_LATITUDE',\n",
       "       'ARRIVEE_HAUTEUR', 'ARRIVEE_PRIX_RETARD_10',\n",
       "       'ARRIVEE_PRIX_RETARD_APRES', 'TEMPS_RETARD_TOTAL'],\n",
       "      dtype='object')"
      ]
     },
     "execution_count": 34,
     "metadata": {},
     "output_type": "execute_result"
    }
   ],
   "source": [
    "data.columns"
   ]
  },
  {
   "cell_type": "code",
   "execution_count": 36,
   "metadata": {},
   "outputs": [],
   "source": [
    "def retard_depart(row):\n",
    "    if row['TEMPS_RETARD_DEPART'] < 10:\n",
    "        return 0\n",
    "    else:\n",
    "        return row['DEPART_PRIX_RETARD_10'] + row['DEPART_PRIX_RETARD_APRES'] * (row['TEMPS_RETARD_DEPART'] - 10)"
   ]
  },
  {
   "cell_type": "code",
   "execution_count": 47,
   "metadata": {},
   "outputs": [
    {
     "name": "stderr",
     "output_type": "stream",
     "text": [
      "C:\\ProgramData\\Anaconda3\\envs\\flight-delay-forecast\\lib\\site-packages\\pandas\\core\\indexing.py:845: SettingWithCopyWarning: \n",
      "A value is trying to be set on a copy of a slice from a DataFrame.\n",
      "Try using .loc[row_indexer,col_indexer] = value instead\n",
      "\n",
      "See the caveats in the documentation: https://pandas.pydata.org/pandas-docs/stable/user_guide/indexing.html#returning-a-view-versus-a-copy\n",
      "  self.obj[key] = _infer_fill_value(value)\n",
      "C:\\ProgramData\\Anaconda3\\envs\\flight-delay-forecast\\lib\\site-packages\\pandas\\core\\indexing.py:966: SettingWithCopyWarning: \n",
      "A value is trying to be set on a copy of a slice from a DataFrame.\n",
      "Try using .loc[row_indexer,col_indexer] = value instead\n",
      "\n",
      "See the caveats in the documentation: https://pandas.pydata.org/pandas-docs/stable/user_guide/indexing.html#returning-a-view-versus-a-copy\n",
      "  self.obj[item] = s\n"
     ]
    }
   ],
   "source": [
    "columns = ['DATE', 'HEURE_ATTERRISSAGE', 'HEURE_DEPART','DEPART_PAYS', 'ARRIVEE_PAYS','COMPAGNIE', 'TEMPS_VOL', 'DISTANCE', 'CODE_AVION', 'AEROPORT_ARRIVEE', 'AEROPORT_DEPART', 'DEPART_PRIX_RETARD_10', \n",
    "    'DEPART_PRIX_RETARD_APRES', 'ARRIVEE_PRIX_RETARD_10', 'ARRIVEE_PRIX_RETARD_APRES', 'TEMPS_RETARD_DEPART']\n",
    "X = data_clean[columns]\n",
    "# Calcul du prix de l'amende\n",
    "    \n",
    "X.loc[:, 'PRIX_RETARD_DEPART'] = X.apply(retard_depart, axis=1)"
   ]
  },
  {
   "cell_type": "code",
   "execution_count": 48,
   "metadata": {},
   "outputs": [
    {
     "data": {
      "text/plain": [
       "count    2.940415e+06\n",
       "mean     5.788141e+03\n",
       "std      2.129845e+04\n",
       "min      0.000000e+00\n",
       "25%      0.000000e+00\n",
       "50%      0.000000e+00\n",
       "75%      0.000000e+00\n",
       "max      1.492253e+06\n",
       "Name: PRIX_RETARD_DEPART, dtype: float64"
      ]
     },
     "execution_count": 48,
     "metadata": {},
     "output_type": "execute_result"
    }
   ],
   "source": [
    "X['PRIX_RETARD_DEPART'].describe()"
   ]
  },
  {
   "cell_type": "code",
   "execution_count": null,
   "metadata": {},
   "outputs": [],
   "source": [
    "est = KBinsDiscretizer(n_bins=3, encode='ordinal', strategy='uniform')"
   ]
  }
 ],
 "metadata": {
  "kernelspec": {
   "display_name": "Python 3",
   "language": "python",
   "name": "python3"
  },
  "language_info": {
   "codemirror_mode": {
    "name": "ipython",
    "version": 3
   },
   "file_extension": ".py",
   "mimetype": "text/x-python",
   "name": "python",
   "nbconvert_exporter": "python",
   "pygments_lexer": "ipython3",
   "version": "3.7.3"
  },
  "toc": {
   "base_numbering": 1,
   "nav_menu": {},
   "number_sections": true,
   "sideBar": true,
   "skip_h1_title": false,
   "title_cell": "Table of Contents",
   "title_sidebar": "Contents",
   "toc_cell": false,
   "toc_position": {},
   "toc_section_display": true,
   "toc_window_display": true
  }
 },
 "nbformat": 4,
 "nbformat_minor": 4
}
