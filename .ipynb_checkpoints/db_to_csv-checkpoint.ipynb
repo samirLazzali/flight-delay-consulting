{
 "cells": [
  {
   "cell_type": "code",
   "execution_count": 2,
   "metadata": {},
   "outputs": [
    {
     "name": "stdout",
     "output_type": "stream",
     "text": [
      "[('aeroports',), ('compagnies',), ('vols',)]\n"
     ]
    }
   ],
   "source": [
    "import sqlite3\n",
    "import pandas as pd\n",
    "\n",
    "# Create your connection.\n",
    "# DL : https://drive.google.com/file/d/10CtW_gZtNHQbQQ2A7QRiXXTh4obXHOQk/view?usp=sharing\n",
    "con = sqlite3.connect('batch_1.db')\n",
    "cursorObj = con.cursor()\n",
    "cursorObj.execute('SELECT name from sqlite_master where type= \"table\"')\n",
    "print(cursorObj.fetchall())"
   ]
  },
  {
   "cell_type": "code",
   "execution_count": 21,
   "metadata": {},
   "outputs": [],
   "source": [
    "aeroports = pd.read_sql_query(\"SELECT * FROM aeroports\", con)\n",
    "aeroports.to_csv(\"aeroports.csv\", index=False)"
   ]
  },
  {
   "cell_type": "code",
   "execution_count": 22,
   "metadata": {},
   "outputs": [],
   "source": [
    "compagnies = pd.read_sql_query(\"SELECT * FROM compagnies\", con)\n",
    "compagnies.to_csv(\"compagnies.csv\", index=False)"
   ]
  },
  {
   "cell_type": "code",
   "execution_count": 3,
   "metadata": {},
   "outputs": [],
   "source": [
    "vols = pd.read_sql_query(\"SELECT * FROM vols\", con)\n",
    "vols.to_csv(\"vols.csv\", index=False)"
   ]
  }
 ],
 "metadata": {
  "kernelspec": {
   "display_name": "Python 3",
   "language": "python",
   "name": "python3"
  },
  "language_info": {
   "codemirror_mode": {
    "name": "ipython",
    "version": 3
   },
   "file_extension": ".py",
   "mimetype": "text/x-python",
   "name": "python",
   "nbconvert_exporter": "python",
   "pygments_lexer": "ipython3",
   "version": "3.7.1"
  }
 },
 "nbformat": 4,
 "nbformat_minor": 2
}
