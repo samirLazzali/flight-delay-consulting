{
 "cells": [
  {
   "cell_type": "code",
   "execution_count": 28,
   "metadata": {},
   "outputs": [
    {
     "name": "stdout",
     "output_type": "stream",
     "text": [
      "[('aeroports',), ('compagnies',), ('vols',)]\n"
     ]
    }
   ],
   "source": [
    "import sqlite3\n",
    "import pandas as pd\n",
    "\n",
    "# Create your connection.\n",
    "# DL : https://drive.google.com/file/d/10CtW_gZtNHQbQQ2A7QRiXXTh4obXHOQk/view?usp=sharing\n",
    "con = sqlite3.connect('batch_1.db')\n",
    "cursorObj = con.cursor()\n",
    "cursorObj.execute('SELECT name from sqlite_master where type= \"table\"')\n",
    "print(cursorObj.fetchall())"
   ]
  },
  {
   "cell_type": "code",
   "execution_count": 29,
   "metadata": {},
   "outputs": [
    {
     "data": {
      "text/html": [
       "<div>\n",
       "<style scoped>\n",
       "    .dataframe tbody tr th:only-of-type {\n",
       "        vertical-align: middle;\n",
       "    }\n",
       "\n",
       "    .dataframe tbody tr th {\n",
       "        vertical-align: top;\n",
       "    }\n",
       "\n",
       "    .dataframe thead th {\n",
       "        text-align: right;\n",
       "    }\n",
       "</style>\n",
       "<table border=\"1\" class=\"dataframe\">\n",
       "  <thead>\n",
       "    <tr style=\"text-align: right;\">\n",
       "      <th></th>\n",
       "      <th>CODE_IATA</th>\n",
       "      <th>NOM</th>\n",
       "      <th>LIEU</th>\n",
       "      <th>PAYS</th>\n",
       "      <th>LONGITUDE</th>\n",
       "      <th>LATITUDE</th>\n",
       "      <th>HAUTEUR</th>\n",
       "      <th>PRIX_RETARD_10</th>\n",
       "      <th>PRIX_RETARD_APRES</th>\n",
       "    </tr>\n",
       "  </thead>\n",
       "  <tbody>\n",
       "    <tr>\n",
       "      <th>0</th>\n",
       "      <td>MCT</td>\n",
       "      <td>Muscat International Airport</td>\n",
       "      <td>Muscat</td>\n",
       "      <td>OM</td>\n",
       "      <td>58.284400939941406</td>\n",
       "      <td>23.593299865722656</td>\n",
       "      <td>48.0</td>\n",
       "      <td>6695</td>\n",
       "      <td>361</td>\n",
       "    </tr>\n",
       "    <tr>\n",
       "      <th>1</th>\n",
       "      <td>SOU</td>\n",
       "      <td>Southampton Airport</td>\n",
       "      <td>Southampton</td>\n",
       "      <td>GB</td>\n",
       "      <td>-1.3567999601364136</td>\n",
       "      <td>50.95029830932617</td>\n",
       "      <td>44.0</td>\n",
       "      <td>1061</td>\n",
       "      <td>71</td>\n",
       "    </tr>\n",
       "    <tr>\n",
       "      <th>2</th>\n",
       "      <td>PNH</td>\n",
       "      <td>Phnom Penh International Airport</td>\n",
       "      <td>Phnom Penh</td>\n",
       "      <td>KH</td>\n",
       "      <td>104.84400177001953</td>\n",
       "      <td>11.546600341796875</td>\n",
       "      <td>40.0</td>\n",
       "      <td>2402</td>\n",
       "      <td>909</td>\n",
       "    </tr>\n",
       "    <tr>\n",
       "      <th>3</th>\n",
       "      <td>BLR</td>\n",
       "      <td>Kempegowda International Airport</td>\n",
       "      <td>Bangalore</td>\n",
       "      <td>IN</td>\n",
       "      <td>77.706299</td>\n",
       "      <td>13.1979</td>\n",
       "      <td>3000.0</td>\n",
       "      <td>8641</td>\n",
       "      <td>550</td>\n",
       "    </tr>\n",
       "    <tr>\n",
       "      <th>4</th>\n",
       "      <td>FFD</td>\n",
       "      <td>RAF Fairford</td>\n",
       "      <td>Fairford</td>\n",
       "      <td>GB</td>\n",
       "      <td>-1.7900300025900002</td>\n",
       "      <td>51.6822013855</td>\n",
       "      <td>286.0</td>\n",
       "      <td>6883</td>\n",
       "      <td>870</td>\n",
       "    </tr>\n",
       "  </tbody>\n",
       "</table>\n",
       "</div>"
      ],
      "text/plain": [
       "  CODE_IATA                               NOM         LIEU PAYS  \\\n",
       "0       MCT      Muscat International Airport       Muscat   OM   \n",
       "1       SOU               Southampton Airport  Southampton   GB   \n",
       "2       PNH  Phnom Penh International Airport   Phnom Penh   KH   \n",
       "3       BLR  Kempegowda International Airport    Bangalore   IN   \n",
       "4       FFD                      RAF Fairford     Fairford   GB   \n",
       "\n",
       "             LONGITUDE             LATITUDE  HAUTEUR  PRIX_RETARD_10  \\\n",
       "0   58.284400939941406   23.593299865722656     48.0            6695   \n",
       "1  -1.3567999601364136    50.95029830932617     44.0            1061   \n",
       "2   104.84400177001953   11.546600341796875     40.0            2402   \n",
       "3            77.706299              13.1979   3000.0            8641   \n",
       "4  -1.7900300025900002        51.6822013855    286.0            6883   \n",
       "\n",
       "   PRIX_RETARD_APRES  \n",
       "0                361  \n",
       "1                 71  \n",
       "2                909  \n",
       "3                550  \n",
       "4                870  "
      ]
     },
     "execution_count": 29,
     "metadata": {},
     "output_type": "execute_result"
    }
   ],
   "source": [
    "aeroports = pd.read_sql_query(\"SELECT * FROM aeroports\", con)\n",
    "aeroports = aeroports.rename(columns={\n",
    "    'CODE IATA': 'CODE_IATA',\n",
    "    'PRIX RETARD PREMIERE 10 MINUTES':'PRIX_RETARD_10',\n",
    "    'PRIS RETARD POUR CHAQUE MINUTE APRES 10 MINUTES':'PRIX_RETARD_APRES'\n",
    "})\n",
    "aeroports.to_csv(\"aeroports.csv\", index=False)\n",
    "aeroports.head()"
   ]
  },
  {
   "cell_type": "code",
   "execution_count": 30,
   "metadata": {},
   "outputs": [],
   "source": [
    "compagnies = pd.read_sql_query(\"SELECT * FROM compagnies\", con)\n",
    "compagnies.to_csv(\"compagnies.csv\", index=False)"
   ]
  },
  {
   "cell_type": "code",
   "execution_count": 31,
   "metadata": {},
   "outputs": [],
   "source": [
    "vols = pd.read_sql_query(\"SELECT * FROM vols\", con)\n",
    "vols = vols.rename(columns={\n",
    "'CODE AVION':'CODE_AVION',\n",
    "'AEROPORT DEPART':'AEROPORT_DEPART',\n",
    "'AEROPORT ARRIVEE':'AEROPORT_ARRIVEE',\n",
    "'DEPART PROGRAMME':'HEURE_DEPART_PROGRAMME',\n",
    "'HEURE DE DEPART':'HEURE_DEPART',\n",
    "'RETART DE DEPART':'TEMPS_RETARD_DEPART',\n",
    "'TEMPS DE DEPLACEMENT A TERRE AU DECOLLAGE':'TEMPS_DEPLACEMENT_DECOLLAGE',\n",
    "'DECOLLAGE':'HEURE_DECOLLAGE',\n",
    "'TEMPS PROGRAMME':'TEMPS_PROGRAMME',\n",
    "'TEMPS PASSE':'TEMPS_PASSE',\n",
    "'TEMPS DE VOL':'TEMPS_VOL',\n",
    "'DISTANCE':'DISTANCE',\n",
    "'ATTERRISSAGE':'HEURE_ATTERRISSAGE',\n",
    "\"TEMPS DE DEPLACEMENT A TERRE A L'ATTERRISSAGE\":'TEMPS_DEPLACEMENT_ATTERRISSAGE',\n",
    "'ARRIVEE PROGRAMMEE':'HEURE_ARRIVEE_PROGRAMMEE',\n",
    "\"HEURE D'ARRIVEE\":'HEURE_ARRIVEE',\n",
    "\"RETARD A L'ARRIVEE\":'TEMPS_RETARD_ARRIVEE',\n",
    "'DETOURNEMENT':'DETOURNEMENT',\n",
    "'ANNULATION':'ANNULATION',\n",
    "'DATE':'DATE',\n",
    "'NIVEAU DE SECURITE':'NIVEAU_SECURITE',\n",
    "#'COMPAGNIE AERIENNE':'COMPAGNIE',\n",
    "\"RAISON D'ANNULATION\":\"RAISON_ANNULATION\",\n",
    "\"RETARD SYSTEM\":\"RETARD_SYSTEM\",\n",
    "\"RETARD SECURITE\":\"RETARD_SECURITE\",\n",
    "\"RETARD COMPAGNIE\":\"RETARD_COMPAGNIE\",\n",
    "\"RETARD AVION\":\"RETARD_AVION\",\n",
    "\"RETARD METEO\":\"RETARD_METEO\"\n",
    "})\n",
    "vols.to_csv(\"vols.csv\", index=False)"
   ]
  },
  {
   "cell_type": "code",
   "execution_count": 32,
   "metadata": {},
   "outputs": [
    {
     "name": "stdout",
     "output_type": "stream",
     "text": [
      "(3000000, 31)\n"
     ]
    }
   ],
   "source": [
    "aeroports = aeroports.drop_duplicates(subset=['CODE_IATA'])\n",
    "airports_start = aeroports.add_prefix('DEPART_')\n",
    "airports_end = aeroports.add_prefix('ARRIVEE_')\n",
    "\n",
    "# Add companies\n",
    "vols_and_companies = vols.join(compagnies.set_index(['CODE']),\n",
    "                               on=['COMPAGNIE AERIENNE'],\n",
    "                               how='left')\n",
    "print(vols_and_companies.shape)"
   ]
  },
  {
   "cell_type": "code",
   "execution_count": 33,
   "metadata": {},
   "outputs": [],
   "source": [
    "# Add airport departure information\n",
    "vols_and_companies_departure = vols_and_companies.join(airports_start.set_index(\n",
    "    ['DEPART_CODE_IATA']),\n",
    "    on=['AEROPORT_DEPART'],\n",
    "    how='inner')"
   ]
  },
  {
   "cell_type": "code",
   "execution_count": 34,
   "metadata": {},
   "outputs": [],
   "source": [
    "# Add airport arrival information\n",
    "full_df = vols_and_companies_departure.join(airports_end.set_index(\n",
    "    ['ARRIVEE_CODE_IATA']),\n",
    "    on=['AEROPORT_DEPART'],\n",
    "    how='inner')"
   ]
  },
  {
   "cell_type": "code",
   "execution_count": 35,
   "metadata": {},
   "outputs": [],
   "source": [
    "full_df.to_csv(\"full_join.csv\", index=False)"
   ]
  }
 ],
 "metadata": {
  "kernelspec": {
   "display_name": "Python 3",
   "language": "python",
   "name": "python3"
  },
  "language_info": {
   "codemirror_mode": {
    "name": "ipython",
    "version": 3
   },
   "file_extension": ".py",
   "mimetype": "text/x-python",
   "name": "python",
   "nbconvert_exporter": "python",
   "pygments_lexer": "ipython3",
   "version": "3.7.1"
  },
  "toc": {
   "base_numbering": 1,
   "nav_menu": {},
   "number_sections": true,
   "sideBar": true,
   "skip_h1_title": false,
   "title_cell": "Table of Contents",
   "title_sidebar": "Contents",
   "toc_cell": false,
   "toc_position": {},
   "toc_section_display": true,
   "toc_window_display": false
  }
 },
 "nbformat": 4,
 "nbformat_minor": 2
}
