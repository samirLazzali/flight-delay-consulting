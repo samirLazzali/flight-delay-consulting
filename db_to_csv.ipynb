{
 "cells": [
  {
   "cell_type": "code",
   "execution_count": 1,
   "metadata": {},
   "outputs": [
    {
     "name": "stdout",
     "output_type": "stream",
     "text": [
      "[('aeroports',), ('compagnies',), ('vols',)]\n"
     ]
    }
   ],
   "source": [
    "import sqlite3\n",
    "import pandas as pd\n",
    "\n",
    "# Create your connection.\n",
    "# DL : https://drive.google.com/file/d/10CtW_gZtNHQbQQ2A7QRiXXTh4obXHOQk/view?usp=sharing\n",
    "con = sqlite3.connect('batch_1.db')\n",
    "cursorObj = con.cursor()\n",
    "cursorObj.execute('SELECT name from sqlite_master where type= \"table\"')\n",
    "print(cursorObj.fetchall())"
   ]
  },
  {
   "cell_type": "code",
   "execution_count": 2,
   "metadata": {},
   "outputs": [],
   "source": [
    "aeroports = pd.read_sql_query(\"SELECT * FROM aeroports\", con)\n",
    "aeroports.to_csv(\"aeroports.csv\", index=False)"
   ]
  },
  {
   "cell_type": "code",
   "execution_count": 3,
   "metadata": {},
   "outputs": [],
   "source": [
    "compagnies = pd.read_sql_query(\"SELECT * FROM compagnies\", con)\n",
    "compagnies.to_csv(\"compagnies.csv\", index=False)"
   ]
  },
  {
   "cell_type": "code",
   "execution_count": 4,
   "metadata": {},
   "outputs": [],
   "source": [
    "vols = pd.read_sql_query(\"SELECT * FROM vols\", con)\n",
    "vols.to_csv(\"vols.csv\", index=False)"
   ]
  },
  {
   "cell_type": "code",
   "execution_count": 13,
   "metadata": {},
   "outputs": [],
   "source": [
    "airports = aeroports.drop_duplicates(subset=['CODE IATA'])\n",
    "\n",
    "airports_start = airports.add_prefix('air_dep_')\n",
    "airports_end = airports.add_prefix('air_arr_')\n",
    "\n",
    "# Add companies\n",
    "vols_and_companies = vols.join(compagnies.set_index(['CODE']),\n",
    "                               on=['COMPAGNIE AERIENNE'],\n",
    "                               how='left')\n",
    "\n",
    "# Add airport departure information\n",
    "vols_and_companies_departure = vols_and_companies.join(airports_start.set_index(\n",
    "    ['air_dep_CODE IATA']),\n",
    "    on=['AEROPORT DEPART'],\n",
    "    how='inner')\n",
    "\n",
    "# Add airport arrival information\n",
    "full_df = vols_and_companies_departure.join(airports_end.set_index(\n",
    "    ['air_arr_CODE IATA']),\n",
    "    on=['AEROPORT DEPART'],\n",
    "    how='inner')\n",
    "\n",
    "vols.to_csv(\"full_join.csv\", index=False)"
   ]
  }
 ],
 "metadata": {
  "kernelspec": {
   "display_name": "Python 3",
   "language": "python",
   "name": "python3"
  },
  "language_info": {
   "codemirror_mode": {
    "name": "ipython",
    "version": 3
   },
   "file_extension": ".py",
   "mimetype": "text/x-python",
   "name": "python",
   "nbconvert_exporter": "python",
   "pygments_lexer": "ipython3",
   "version": "3.8.2"
  },
  "toc": {
   "base_numbering": 1,
   "nav_menu": {},
   "number_sections": true,
   "sideBar": true,
   "skip_h1_title": false,
   "title_cell": "Table of Contents",
   "title_sidebar": "Contents",
   "toc_cell": false,
   "toc_position": {},
   "toc_section_display": true,
   "toc_window_display": false
  }
 },
 "nbformat": 4,
 "nbformat_minor": 2
}
